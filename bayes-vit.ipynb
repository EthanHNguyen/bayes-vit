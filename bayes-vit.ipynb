{
  "cells": [
    {
      "cell_type": "code",
      "execution_count": 1,
      "metadata": {
        "collapsed": true,
        "id": "QPP86cjLecqA"
      },
      "outputs": [],
      "source": [
        "import matplotlib.pyplot as plt\n",
        "import numpy as np\n",
        "import torch\n",
        "import torchvision.datasets as datasets\n",
        "import torchvision.transforms as transforms\n",
        "import torch.optim as optim\n",
        "import torch.nn as nn\n",
        "from torch.utils.data import DataLoader\n",
        "\n",
        "np.random.seed(0)"
      ]
    },
    {
      "cell_type": "markdown",
      "source": [
        "# Traditional Dropout Transformer"
      ],
      "metadata": {
        "id": "muyZoXTJMPjd"
      }
    },
    {
      "cell_type": "code",
      "source": [
        "class SelfAttention(nn.Module):\n",
        "    def __init__(self, in_channels, out_channels, heads, dropout):\n",
        "        super(SelfAttention, self).__init__()\n",
        "        self.heads = heads\n",
        "        self.query = nn.Linear(in_channels, out_channels)\n",
        "        self.key = nn.Linear(in_channels, out_channels)\n",
        "        self.value = nn.Linear(in_channels, out_channels)\n",
        "        self.fc = nn.Linear(out_channels, out_channels)\n",
        "        self.dropout = nn.Dropout(dropout)\n",
        "\n",
        "    def forward(self, x):\n",
        "        x = self.dropout(x)\n",
        "        batch_size, seq_len, in_channels = x.size()\n",
        "\n",
        "        # Project input to query, key and value\n",
        "        queries = self.query(x)\n",
        "        keys = self.key(x)\n",
        "        values = self.value(x)\n",
        "\n",
        "        # Split each query, key, value into self.heads separate pieces\n",
        "        queries = queries.view(batch_size, seq_len, self.heads, -1)\n",
        "        keys = keys.view(batch_size, seq_len, self.heads, -1)\n",
        "        values = values.view(batch_size, seq_len, self.heads, -1)\n",
        "\n",
        "        # Dot product between queries and keys for each head\n",
        "        dot = torch.einsum('bqhd,bkhd->bhqk', queries, keys) / (np.sqrt(in_channels))\n",
        "\n",
        "        # Apply softmax activation\n",
        "        dot = torch.softmax(dot, dim=-1)\n",
        "        dot = self.dropout(dot)\n",
        "\n",
        "        # Weighted sum of values for each head\n",
        "        out = torch.einsum('bhqk,bkhd->bqhd', dot, values)\n",
        "\n",
        "        out = out.view(batch_size, seq_len, -1)\n",
        "        out = self.fc(out)\n",
        "\n",
        "        return out\n",
        "\n",
        "class TransformerBlock(nn.Module):\n",
        "    def __init__(self, in_channels, out_channels, heads, dropout):\n",
        "        super(TransformerBlock, self).__init__()\n",
        "        self.norm1 = nn.LayerNorm(in_channels)\n",
        "        self.attention = SelfAttention(in_channels, out_channels, heads, dropout)\n",
        "        self.norm2 = nn.LayerNorm(out_channels)\n",
        "        self.dropout = nn.Dropout(dropout)\n",
        "        self.fc1 = nn.Sequential(\n",
        "            nn.Linear(out_channels, out_channels),\n",
        "            nn.ReLU(),\n",
        "            nn.Linear(out_channels, in_channels)\n",
        "        )\n",
        "\n",
        "    def forward(self, x):\n",
        "        residual = x\n",
        "        x = self.norm1(x)\n",
        "        x = self.attention(x)\n",
        "        x = self.dropout(x)\n",
        "        x += residual\n",
        "        residual = x\n",
        "        x = self.norm2(x)\n",
        "        x = self.fc1(x)\n",
        "        x = self.dropout(x)\n",
        "        x += residual\n",
        "        return x"
      ],
      "metadata": {
        "id": "EKSM9PzZMKC2"
      },
      "execution_count": 2,
      "outputs": []
    },
    {
      "cell_type": "code",
      "execution_count": 3,
      "outputs": [],
      "source": [
        "class ViT(nn.Module):\n",
        "    def __init__(self, img_size, patch_size, num_classes, blocks, heads, dropout=0.05):\n",
        "        super(ViT, self).__init__()\n",
        "        num_patches = np.square(img_size // patch_size)\n",
        "\n",
        "        # Input size is patch dimension\n",
        "        self.patch_embedding = nn.Linear(np.square(patch_size), heads)\n",
        "        self.cls_token = nn.Parameter(torch.randn(1, 1, heads))\n",
        "        self.position_embedding = nn.Parameter(torch.randn(1, num_patches + 1, heads))\n",
        "        self.dropout = nn.Dropout(dropout)\n",
        "        self.transformer_blocks = nn.Sequential(*[\n",
        "            TransformerBlock(heads, heads, heads, dropout) for _ in range(blocks)\n",
        "        ])\n",
        "        self.fc = nn.Linear(heads, num_classes)\n",
        "\n",
        "    def forward(self, x):\n",
        "        batch_size, _, _, _ = x.size()\n",
        "\n",
        "        # Reshape into a 4D tensor with dimensions (batch_size, num_patches, 1, patch_dim)\n",
        "        x = x.view(batch_size, -1, 1, self.patch_embedding.in_features)\n",
        "\n",
        "        # Transpose the dimensions of the tensor to (batch_size, num_patches, patch_dim, 1)\n",
        "        # Then flatten so that it is just (batch_size, num_patches, patch_dim)\n",
        "        x = x.permute(0, 1, 3, 2).flatten(2)\n",
        "        x = self.patch_embedding(x)\n",
        "        cls_token = self.cls_token.expand(batch_size, -1, -1)\n",
        "        x = torch.cat([cls_token, x], dim=1)\n",
        "        x = x + self.position_embedding\n",
        "        x = self.dropout(x)\n",
        "        x = self.transformer_blocks(x)\n",
        "        x = x[:, 0]\n",
        "        x = self.fc(x)\n",
        "        return x"
      ],
      "metadata": {
        "id": "g3RQt2o9ecqG"
      }
    },
    {
      "cell_type": "code",
      "execution_count": 4,
      "outputs": [
        {
          "output_type": "stream",
          "name": "stdout",
          "text": [
            "Downloading http://yann.lecun.com/exdb/mnist/train-images-idx3-ubyte.gz\n",
            "Downloading http://yann.lecun.com/exdb/mnist/train-images-idx3-ubyte.gz to ./data/MNIST/raw/train-images-idx3-ubyte.gz\n"
          ]
        },
        {
          "output_type": "stream",
          "name": "stderr",
          "text": [
            "100%|██████████| 9912422/9912422 [00:00<00:00, 218965894.28it/s]"
          ]
        },
        {
          "output_type": "stream",
          "name": "stdout",
          "text": [
            "Extracting ./data/MNIST/raw/train-images-idx3-ubyte.gz to ./data/MNIST/raw\n"
          ]
        },
        {
          "output_type": "stream",
          "name": "stderr",
          "text": [
            "\n"
          ]
        },
        {
          "output_type": "stream",
          "name": "stdout",
          "text": [
            "\n",
            "Downloading http://yann.lecun.com/exdb/mnist/train-labels-idx1-ubyte.gz\n",
            "Downloading http://yann.lecun.com/exdb/mnist/train-labels-idx1-ubyte.gz to ./data/MNIST/raw/train-labels-idx1-ubyte.gz\n"
          ]
        },
        {
          "output_type": "stream",
          "name": "stderr",
          "text": [
            "100%|██████████| 28881/28881 [00:00<00:00, 107771969.59it/s]\n"
          ]
        },
        {
          "output_type": "stream",
          "name": "stdout",
          "text": [
            "Extracting ./data/MNIST/raw/train-labels-idx1-ubyte.gz to ./data/MNIST/raw\n",
            "\n",
            "Downloading http://yann.lecun.com/exdb/mnist/t10k-images-idx3-ubyte.gz\n",
            "Downloading http://yann.lecun.com/exdb/mnist/t10k-images-idx3-ubyte.gz to ./data/MNIST/raw/t10k-images-idx3-ubyte.gz\n"
          ]
        },
        {
          "output_type": "stream",
          "name": "stderr",
          "text": [
            "100%|██████████| 1648877/1648877 [00:00<00:00, 64055010.71it/s]"
          ]
        },
        {
          "output_type": "stream",
          "name": "stdout",
          "text": [
            "Extracting ./data/MNIST/raw/t10k-images-idx3-ubyte.gz to ./data/MNIST/raw\n",
            "\n",
            "Downloading http://yann.lecun.com/exdb/mnist/t10k-labels-idx1-ubyte.gz\n"
          ]
        },
        {
          "output_type": "stream",
          "name": "stderr",
          "text": [
            "\n"
          ]
        },
        {
          "output_type": "stream",
          "name": "stdout",
          "text": [
            "Downloading http://yann.lecun.com/exdb/mnist/t10k-labels-idx1-ubyte.gz to ./data/MNIST/raw/t10k-labels-idx1-ubyte.gz\n"
          ]
        },
        {
          "output_type": "stream",
          "name": "stderr",
          "text": [
            "100%|██████████| 4542/4542 [00:00<00:00, 5000138.78it/s]\n"
          ]
        },
        {
          "output_type": "stream",
          "name": "stdout",
          "text": [
            "Extracting ./data/MNIST/raw/t10k-labels-idx1-ubyte.gz to ./data/MNIST/raw\n",
            "\n",
            "Epoch 1 - Loss: 1.687\n",
            "Epoch 2 - Loss: 0.959\n",
            "Epoch 3 - Loss: 0.725\n",
            "Epoch 4 - Loss: 0.613\n",
            "Epoch 5 - Loss: 0.539\n",
            "Epoch 6 - Loss: 0.490\n",
            "Epoch 7 - Loss: 0.456\n",
            "Epoch 8 - Loss: 0.430\n",
            "Epoch 9 - Loss: 0.412\n",
            "Epoch 10 - Loss: 0.392\n",
            "Epoch 11 - Loss: 0.383\n",
            "Epoch 12 - Loss: 0.370\n",
            "Epoch 13 - Loss: 0.353\n",
            "Epoch 14 - Loss: 0.349\n",
            "Epoch 15 - Loss: 0.339\n",
            "Epoch 16 - Loss: 0.332\n",
            "Epoch 17 - Loss: 0.322\n",
            "Epoch 18 - Loss: 0.315\n",
            "Epoch 19 - Loss: 0.312\n",
            "Epoch 20 - Loss: 0.304\n"
          ]
        }
      ],
      "source": [
        "device = torch.device(\"cuda\" if torch.cuda.is_available() else \"cpu\")\n",
        "\n",
        "# Load MNIST\n",
        "train_dataset = datasets.MNIST(root='./data', train=True, transform=transforms.ToTensor(), download=True)\n",
        "test_dataset = datasets.MNIST(root='./data', train=False, transform=transforms.ToTensor())\n",
        "\n",
        "# Create the data loaders\n",
        "train_loader = torch.utils.data.DataLoader(train_dataset, batch_size=64, shuffle=True)\n",
        "test_loader = torch.utils.data.DataLoader(test_dataset, batch_size=64, shuffle=False)\n",
        "\n",
        "\n",
        "model = ViT(img_size=28, patch_size=7, num_classes=10, blocks=6, heads=8).to(device)\n",
        "\n",
        "criterion = nn.CrossEntropyLoss()\n",
        "optimizer = optim.Adam(model.parameters(), lr=1e-3)\n",
        "torch.manual_seed(0)\n",
        "\n",
        "conv_losses = []\n",
        "for epoch in range(20):\n",
        "    cur_loss = 0.0\n",
        "    for i, (inputs, labels) in enumerate(train_loader):\n",
        "        optimizer.zero_grad()\n",
        "        inputs, labels = inputs.to(device), labels.to(device)\n",
        "        outputs = model(inputs)\n",
        "        loss = criterion(outputs, labels)\n",
        "        loss.backward()\n",
        "        optimizer.step()\n",
        "        conv_losses.append(loss.item())\n",
        "        cur_loss += loss.item()\n",
        "\n",
        "    print(f'Epoch {epoch+1} - Loss: {cur_loss / len(train_loader):.3f}')"
      ],
      "metadata": {
        "colab": {
          "base_uri": "https://localhost:8080/"
        },
        "id": "vAe-cqcoecqH",
        "outputId": "1d35654c-72b7-4663-abcb-652b22fbaa9f"
      }
    },
    {
      "cell_type": "code",
      "source": [
        "with torch.no_grad():\n",
        "    # Evaluate on the test set\n",
        "    correct = 0\n",
        "    total = 0\n",
        "    with torch.no_grad():\n",
        "        for inputs, labels in test_loader:\n",
        "            inputs, labels = inputs.to(device), labels.to(device)\n",
        "            outputs = model(inputs)\n",
        "            _, predicted = torch.max(outputs.data, 1)\n",
        "            total += labels.size(0)\n",
        "            correct += (predicted == labels).sum().item()\n",
        "    test_accuracy = 100 * correct / total\n",
        "    print(f'Test Accuracy: {test_accuracy:.3f}')"
      ],
      "metadata": {
        "colab": {
          "base_uri": "https://localhost:8080/"
        },
        "id": "_ok0ZNdHgiIm",
        "outputId": "d4b876cb-b7fc-45d4-89c7-aa75f85e0213"
      },
      "execution_count": 5,
      "outputs": [
        {
          "output_type": "stream",
          "name": "stdout",
          "text": [
            "Test Accuracy: 90.510\n"
          ]
        }
      ]
    },
    {
      "cell_type": "markdown",
      "source": [
        "# BayesFormer"
      ],
      "metadata": {
        "id": "x5Nl1xoTLSwf"
      }
    },
    {
      "cell_type": "code",
      "source": [
        "class BayesSelfAttention(nn.Module):\n",
        "    def __init__(self, in_channels, out_channels, heads, dropout):\n",
        "        super(BayesSelfAttention, self).__init__()\n",
        "        self.heads = heads\n",
        "        self.query = nn.Linear(in_channels, out_channels)\n",
        "        self.key = nn.Linear(in_channels, out_channels)\n",
        "        self.value = nn.Linear(in_channels, out_channels)\n",
        "        self.fc = nn.Linear(out_channels, out_channels)\n",
        "        self.dropout = nn.Dropout(dropout)\n",
        "\n",
        "    def forward(self, x):\n",
        "        batch_size, seq_len, in_channels = x.size()\n",
        "\n",
        "        # Project input to query, key and value\n",
        "        queries = self.dropout(self.query(x))\n",
        "        keys = self.dropout(self.key(x))\n",
        "        values = self.dropout(self.value(x))\n",
        "\n",
        "        # Split each query, key, value into self.heads separate pieces\n",
        "        queries = queries.view(batch_size, seq_len, self.heads, -1)\n",
        "        keys = keys.view(batch_size, seq_len, self.heads, -1)\n",
        "        values = values.view(batch_size, seq_len, self.heads, -1)\n",
        "\n",
        "        # Dot product between queries and keys for each head\n",
        "        dot = torch.einsum('bqhd,bkhd->bhqk', queries, keys) / (np.sqrt(in_channels))\n",
        "\n",
        "        # Apply softmax activation\n",
        "        dot = torch.softmax(dot, dim=-1)\n",
        "\n",
        "        # Weighted sum of values for each head\n",
        "        out = torch.einsum('bhqk,bkhd->bqhd', dot, values)\n",
        "\n",
        "        out = out.view(batch_size, seq_len, -1)\n",
        "        out = self.fc(out)\n",
        "\n",
        "        return out\n",
        "\n",
        "class BayesTransformerBlock(nn.Module):\n",
        "    def __init__(self, in_channels, out_channels, heads, dropout):\n",
        "        super(BayesTransformerBlock, self).__init__()\n",
        "        self.norm1 = nn.LayerNorm(in_channels)\n",
        "        self.attention = BayesSelfAttention(in_channels, out_channels, heads, dropout)\n",
        "        self.norm2 = nn.LayerNorm(out_channels)\n",
        "        self.dropout = nn.Dropout(dropout)\n",
        "        self.fc1 = nn.Sequential(\n",
        "            nn.Linear(out_channels, out_channels),\n",
        "            nn.ReLU(),\n",
        "            nn.Linear(out_channels, in_channels)\n",
        "        )\n",
        "\n",
        "    def forward(self, x):\n",
        "        residual = x\n",
        "        x = self.norm1(x)\n",
        "        x = self.attention(x)\n",
        "        x += residual\n",
        "        residual = x\n",
        "        x = self.norm2(x)\n",
        "        x = self.dropout(x)\n",
        "        x = self.fc1(x)\n",
        "        x = self.dropout(x)\n",
        "        x += residual\n",
        "        return x"
      ],
      "metadata": {
        "id": "HYQyRPUfFVEc"
      },
      "execution_count": 6,
      "outputs": []
    },
    {
      "cell_type": "code",
      "source": [
        "class BayesViT(nn.Module):\n",
        "    def __init__(self, img_size, patch_size, num_classes, blocks, heads, dropout=0.05):\n",
        "        super(BayesViT, self).__init__()\n",
        "        num_patches = np.square(img_size // patch_size)\n",
        "\n",
        "        # Input size is patch dimension\n",
        "        self.patch_embedding = nn.Linear(np.square(patch_size), heads)\n",
        "        self.dropout = nn.Dropout(dropout)\n",
        "        self.cls_token = nn.Parameter(torch.randn(1, 1, heads))\n",
        "        self.position_embedding = nn.Parameter(torch.randn(1, num_patches + 1, heads))\n",
        "        self.transformer_blocks = nn.Sequential(*[\n",
        "            BayesTransformerBlock(heads, heads, heads, dropout) for _ in range(blocks)\n",
        "        ])\n",
        "        self.fc = nn.Linear(heads, num_classes)\n",
        "\n",
        "    def forward(self, x):\n",
        "        batch_size, _, _, _ = x.size()\n",
        "\n",
        "        # Reshape into a 4D tensor with dimensions (batch_size, num_patches, 1, patch_dim)\n",
        "        x = x.view(batch_size, -1, 1, self.patch_embedding.in_features)\n",
        "\n",
        "        # Transpose the dimensions of the tensor to (batch_size, num_patches, patch_dim, 1)\n",
        "        # Then flatten so that it is just (batch_size, num_patches, patch_dim)\n",
        "        x = self.dropout(x.permute(0, 1, 3, 2).flatten(2))\n",
        "        x = self.patch_embedding(x)\n",
        "        cls_token = self.cls_token.expand(batch_size, -1, -1)\n",
        "        x = torch.cat([cls_token, x], dim=1)\n",
        "        x = x + self.dropout(self.position_embedding)\n",
        "        x = self.transformer_blocks(x)\n",
        "        x = x[:, 0]\n",
        "        x = self.fc(x)\n",
        "        return x"
      ],
      "metadata": {
        "id": "HxExHuNmLYIQ"
      },
      "execution_count": 7,
      "outputs": []
    },
    {
      "cell_type": "code",
      "source": [
        "device = torch.device(\"cuda\" if torch.cuda.is_available() else \"cpu\")\n",
        "\n",
        "# Load MNIST\n",
        "train_dataset = datasets.MNIST(root='./data', train=True, transform=transforms.ToTensor(), download=True)\n",
        "test_dataset = datasets.MNIST(root='./data', train=False, transform=transforms.ToTensor())\n",
        "\n",
        "# Create the data loaders\n",
        "train_loader = torch.utils.data.DataLoader(train_dataset, batch_size=64, shuffle=True)\n",
        "test_loader = torch.utils.data.DataLoader(test_dataset, batch_size=64, shuffle=False)\n",
        "\n",
        "model = BayesViT(img_size=28, patch_size=7, num_classes=10, blocks=6, heads=8, dropout=0.05).to(device)\n",
        "\n",
        "criterion = nn.CrossEntropyLoss()\n",
        "optimizer = optim.Adam(model.parameters(), lr=1e-3)\n",
        "torch.manual_seed(0)\n",
        "\n",
        "bayes_losses = []\n",
        "for epoch in range(20):\n",
        "    cur_loss = 0.0\n",
        "    for i, (inputs, labels) in enumerate(train_loader):\n",
        "        optimizer.zero_grad()\n",
        "        inputs, labels = inputs.to(device), labels.to(device)\n",
        "        outputs = model(inputs)\n",
        "        loss = criterion(outputs, labels)\n",
        "        loss.backward()\n",
        "        optimizer.step()\n",
        "        bayes_losses.append(loss.item())\n",
        "        cur_loss += loss.item()\n",
        "\n",
        "    print(f'Epoch {epoch+1} - Loss: {cur_loss / len(train_loader):.3f}')"
      ],
      "metadata": {
        "colab": {
          "base_uri": "https://localhost:8080/"
        },
        "id": "vR6zP4ICjYG4",
        "outputId": "35b8184f-14e5-4a57-c19b-fdd18672da3d"
      },
      "execution_count": 8,
      "outputs": [
        {
          "output_type": "stream",
          "name": "stdout",
          "text": [
            "Epoch 1 - Loss: 1.798\n",
            "Epoch 2 - Loss: 0.853\n",
            "Epoch 3 - Loss: 0.602\n",
            "Epoch 4 - Loss: 0.508\n",
            "Epoch 5 - Loss: 0.447\n",
            "Epoch 6 - Loss: 0.404\n",
            "Epoch 7 - Loss: 0.376\n",
            "Epoch 8 - Loss: 0.350\n",
            "Epoch 9 - Loss: 0.337\n",
            "Epoch 10 - Loss: 0.318\n",
            "Epoch 11 - Loss: 0.307\n",
            "Epoch 12 - Loss: 0.292\n",
            "Epoch 13 - Loss: 0.287\n",
            "Epoch 14 - Loss: 0.281\n",
            "Epoch 15 - Loss: 0.267\n",
            "Epoch 16 - Loss: 0.266\n",
            "Epoch 17 - Loss: 0.258\n",
            "Epoch 18 - Loss: 0.254\n",
            "Epoch 19 - Loss: 0.254\n",
            "Epoch 20 - Loss: 0.248\n"
          ]
        }
      ]
    },
    {
      "cell_type": "code",
      "source": [
        "with torch.no_grad():\n",
        "    # Evaluate on the test set\n",
        "    correct = 0\n",
        "    total = 0\n",
        "    with torch.no_grad():\n",
        "        for inputs, labels in test_loader:\n",
        "            inputs, labels = inputs.to(device), labels.to(device)\n",
        "            outputs = model(inputs)\n",
        "            _, predicted = torch.max(outputs.data, 1)\n",
        "            total += labels.size(0)\n",
        "            correct += (predicted == labels).sum().item()\n",
        "    test_accuracy = 100 * correct / total\n",
        "    print(f'Test Accuracy: {test_accuracy:.3f}')"
      ],
      "metadata": {
        "colab": {
          "base_uri": "https://localhost:8080/"
        },
        "id": "ToPDU6NLopDb",
        "outputId": "27409b06-a1ef-4b4a-9911-cc7b7106db20"
      },
      "execution_count": 9,
      "outputs": [
        {
          "output_type": "stream",
          "name": "stdout",
          "text": [
            "Test Accuracy: 92.390\n"
          ]
        }
      ]
    },
    {
      "cell_type": "code",
      "source": [
        "import matplotlib.pyplot as plt\n",
        "\n",
        "# plot losses\n",
        "plt.plot(range(len(bayes_losses)), bayes_losses, label='Bayesian Dropout ViT')\n",
        "plt.plot(range(len(conv_losses)), conv_losses, label='Conventional Dropout ViT')\n",
        "plt.title('Training Loss')\n",
        "plt.xlabel('Iteration')\n",
        "plt.ylabel('Loss')\n",
        "plt.show()"
      ],
      "metadata": {
        "colab": {
          "base_uri": "https://localhost:8080/",
          "height": 472
        },
        "id": "e65C4A3K6g-o",
        "outputId": "1534034e-2ce9-4bed-b2bd-83c5f55bf21b"
      },
      "execution_count": 13,
      "outputs": [
        {
          "output_type": "display_data",
          "data": {
            "text/plain": [
              "<Figure size 640x480 with 1 Axes>"
            ],
            "image/png": "[encoded data removed]"
          },
          "metadata": {}
        }
      ]
    },
    {
      "cell_type": "code",
      "source": [
        "import torch.nn.functional as F\n",
        "from torchvision.transforms.functional import rotate\n",
        "\n",
        "# Rotate the digit '1' by various angles\n",
        "rotations = [0, 15, 30, 45, 60, 75, 90, 105, 120, 135, 150, 165, 180, 195, 210, 225, 240, 255, 270, 285, 300, 315, 330, 345]\n",
        "one = test_dataset[2][0]\n",
        "rotated_ones = [rotate(one, angle) for angle in rotations]\n",
        "\n",
        "# Calculate the predictions and uncertainties for each rotated image\n",
        "with torch.no_grad():\n",
        "    model.eval()\n",
        "    for i, rotated_one in enumerate(rotated_ones):\n",
        "        rotated_one = rotated_one.unsqueeze(0).to(device)\n",
        "        outputs = torch.stack([model(rotated_one) for _ in range(50)])\n",
        "        mean_output = outputs.mean(dim=0)\n",
        "        prediction = torch.argmax(mean_output)\n",
        "        predictive_entropy = -torch.sum(mean_output * F.log_softmax(mean_output, dim=-1), dim=-1)\n",
        "        print(f\"Rotation {rotations[i]} - Prediction {prediction} - Entropy {predictive_entropy}\")"
      ],
      "metadata": {
        "colab": {
          "base_uri": "https://localhost:8080/"
        },
        "id": "Y3kmy24cA1hQ",
        "outputId": "7fb4ad86-8964-48bf-c573-70c348c9066f"
      },
      "execution_count": 30,
      "outputs": [
        {
          "output_type": "stream",
          "name": "stdout",
          "text": [
            "Rotation 0 - Prediction 1 - Entropy tensor([-179.1366], device='cuda:0')\n",
            "Rotation 15 - Prediction 1 - Entropy tensor([-149.9943], device='cuda:0')\n",
            "Rotation 30 - Prediction 1 - Entropy tensor([-140.1392], device='cuda:0')\n",
            "Rotation 45 - Prediction 1 - Entropy tensor([-150.0211], device='cuda:0')\n",
            "Rotation 60 - Prediction 3 - Entropy tensor([-175.2552], device='cuda:0')\n",
            "Rotation 75 - Prediction 7 - Entropy tensor([-149.2538], device='cuda:0')\n",
            "Rotation 90 - Prediction 7 - Entropy tensor([-229.9515], device='cuda:0')\n",
            "Rotation 105 - Prediction 7 - Entropy tensor([-248.6514], device='cuda:0')\n",
            "Rotation 120 - Prediction 2 - Entropy tensor([-170.4012], device='cuda:0')\n",
            "Rotation 135 - Prediction 5 - Entropy tensor([-76.7025], device='cuda:0')\n",
            "Rotation 150 - Prediction 3 - Entropy tensor([-89.2458], device='cuda:0')\n",
            "Rotation 165 - Prediction 1 - Entropy tensor([-68.8396], device='cuda:0')\n",
            "Rotation 180 - Prediction 1 - Entropy tensor([-85.4281], device='cuda:0')\n",
            "Rotation 195 - Prediction 1 - Entropy tensor([-58.2035], device='cuda:0')\n",
            "Rotation 210 - Prediction 1 - Entropy tensor([-60.4363], device='cuda:0')\n",
            "Rotation 225 - Prediction 1 - Entropy tensor([-105.6016], device='cuda:0')\n",
            "Rotation 240 - Prediction 5 - Entropy tensor([-147.5472], device='cuda:0')\n",
            "Rotation 255 - Prediction 5 - Entropy tensor([-147.6849], device='cuda:0')\n",
            "Rotation 270 - Prediction 2 - Entropy tensor([-192.1389], device='cuda:0')\n",
            "Rotation 285 - Prediction 2 - Entropy tensor([-195.1503], device='cuda:0')\n",
            "Rotation 300 - Prediction 2 - Entropy tensor([-144.5726], device='cuda:0')\n",
            "Rotation 315 - Prediction 1 - Entropy tensor([-169.2281], device='cuda:0')\n",
            "Rotation 330 - Prediction 1 - Entropy tensor([-124.6209], device='cuda:0')\n",
            "Rotation 345 - Prediction 1 - Entropy tensor([-172.5472], device='cuda:0')\n"
          ]
        }
      ]
    },
    {
      "cell_type": "code",
      "source": [
        "import matplotlib.pyplot as plt\n",
        "import numpy as np\n",
        "from torchvision.transforms import functional as F\n",
        "\n",
        "# Define rotation angles\n",
        "angles = [0, 30, 60, 90, 120, 150, 180, 210, 240, 270, 300, 330]\n",
        "\n",
        "# Rotate the image at each angle and get the model's predictions\n",
        "img = test_dataset[2][0]\n",
        "predictions = [[] for _ in range(len(angles))]\n",
        "model.train()\n",
        "with torch.no_grad():\n",
        "    for i, angle in enumerate(angles):\n",
        "        rotated_img = F.rotate(img, angle)\n",
        "        for _ in range(50):\n",
        "            outputs = model(rotated_img.unsqueeze(0).to(device))\n",
        "            probabilities = torch.nn.functional.softmax(outputs, dim=-1).cpu().numpy().squeeze()\n",
        "            predictions[i].append(probabilities)\n",
        "\n",
        "# Compute the mean and variance of the predictions for each class\n",
        "predictions = np.array(predictions)\n",
        "mean_predictions = np.argmax(np.mean(predictions, axis=1), axis=1)\n",
        "variance_predictions = np.sum(np.var(predictions, axis=1), axis=1)\n",
        "\n",
        "print(mean_predictions.shape)\n",
        "print(variance_predictions.shape)\n",
        "\n",
        "# Rotate the image at each angle and plot\n",
        "fig, axes = plt.subplots(nrows=4, ncols=3, figsize=(8, 8))\n",
        "axes = axes.flatten()\n",
        "img = test_dataset[2][0]\n",
        "for i, angle in enumerate(angles):\n",
        "    rotated_img = F.rotate(img, angle)\n",
        "    axes[i].imshow(np.transpose(rotated_img.numpy(), (1, 2, 0)))\n",
        "    axes[i].set_title(f\"Angle: {angle} - Pred: {mean_predictions[i]}\")\n",
        "    axes[i].axis('off')\n",
        "plt.tight_layout()\n",
        "plt.show()\n",
        "\n",
        "# Plot the mean predictions and uncertainty\n",
        "# fig, ax = plt.subplots(figsize=(8, 6))\n",
        "# ax.bar(np.arange(len(angles)), mean_predictions, capsize=5)\n",
        "# ax.set_xticks(np.arange(len(angles)))\n",
        "# ax.set_xticklabels(angles)\n",
        "# ax.set_xlabel('Rotation Angle (degrees)')\n",
        "# ax.set_ylabel('Class')\n",
        "# ax.set_title('Prediction of Rotated Image')\n",
        "# plt.tight_layout()\n",
        "# plt.show()\n",
        "\n",
        "# Plot the mean predictions and uncertainty\n",
        "fig, ax = plt.subplots(figsize=(8, 6))\n",
        "ax.bar(np.arange(len(angles)), np.sqrt(variance_predictions), capsize=5)\n",
        "ax.set_xticks(np.arange(len(angles)))\n",
        "ax.set_xticklabels(angles)\n",
        "ax.set_xlabel('Rotation Angle (degrees)')\n",
        "ax.set_ylabel('Uncertainty')\n",
        "ax.set_title('Uncertainty Quantification of Model')\n",
        "plt.tight_layout()\n",
        "plt.show()\n",
        "\n",
        "\n"
      ],
      "metadata": {
        "colab": {
          "base_uri": "https://localhost:8080/",
          "height": 1000
        },
        "id": "4y92auiPBI5p",
        "outputId": "b6f4d812-06b9-4615-ae87-eddc80c4ffe6"
      },
      "execution_count": 55,
      "outputs": [
        {
          "output_type": "stream",
          "name": "stdout",
          "text": [
            "(12,)\n",
            "(12,)\n"
          ]
        },
        {
          "output_type": "display_data",
          "data": {
            "text/plain": [
              "<Figure size 800x800 with 12 Axes>"
            ],
            "image/png": "[encoded data removed]"
          },
          "metadata": {}
        },
        {
          "output_type": "display_data",
          "data": {
            "text/plain": [
              "<Figure size 800x600 with 1 Axes>"
            ],
            "image/png": "[encoded data removed]"
          },
          "metadata": {}
        }
      ]
    }
  ],
  "metadata": {
    "kernelspec": {
      "display_name": "Python 3",
      "language": "python",
      "name": "python3"
    },
    "language_info": {
      "codemirror_mode": {
        "name": "ipython",
        "version": 2
      },
      "file_extension": ".py",
      "mimetype": "text/x-python",
      "name": "python",
      "nbconvert_exporter": "python",
      "pygments_lexer": "ipython2",
      "version": "2.7.6"
    },
    "colab": {
      "provenance": []
    },
    "accelerator": "GPU",
    "gpuClass": "standard"
  },
  "nbformat": 4,
  "nbformat_minor": 0
}